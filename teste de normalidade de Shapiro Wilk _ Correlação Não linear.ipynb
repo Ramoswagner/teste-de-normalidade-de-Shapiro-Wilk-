{
 "cells": [
  {
   "cell_type": "code",
   "execution_count": 4,
   "id": "26f7a73b",
   "metadata": {},
   "outputs": [],
   "source": [
    "## Correlção de Pearson linear\n",
    "import pandas as pd\n",
    "from random import *\n",
    "import numpy as np"
   ]
  },
  {
   "cell_type": "code",
   "execution_count": 5,
   "id": "60fc50c2",
   "metadata": {},
   "outputs": [],
   "source": [
    "lista1 = []\n",
    "for i in range (5000):\n",
    "    a = float(gauss(0,10))\n",
    "    lista1.append(a)"
   ]
  },
  {
   "cell_type": "code",
   "execution_count": 6,
   "id": "59e4fbac",
   "metadata": {},
   "outputs": [],
   "source": [
    "lista2 = []\n",
    "for i in range (5000):\n",
    "    a = float(gauss(15,2))\n",
    "    lista2.append(a)"
   ]
  },
  {
   "cell_type": "code",
   "execution_count": 9,
   "id": "b94575aa",
   "metadata": {},
   "outputs": [
    {
     "data": {
      "text/plain": [
       "-0.21581378268103427"
      ]
     },
     "execution_count": 9,
     "metadata": {},
     "output_type": "execute_result"
    }
   ],
   "source": [
    "np.mean(lista1)"
   ]
  },
  {
   "cell_type": "code",
   "execution_count": 10,
   "id": "26966372",
   "metadata": {},
   "outputs": [
    {
     "data": {
      "text/plain": [
       "15.011346347277009"
      ]
     },
     "execution_count": 10,
     "metadata": {},
     "output_type": "execute_result"
    }
   ],
   "source": [
    "np.mean(lista2)"
   ]
  },
  {
   "cell_type": "markdown",
   "id": "9d0b404e",
   "metadata": {},
   "source": [
    "## Realizando o teste de normalidade de Shapiro Wilk"
   ]
  },
  {
   "cell_type": "code",
   "execution_count": 15,
   "id": "62dee49b",
   "metadata": {},
   "outputs": [
    {
     "name": "stdout",
     "output_type": "stream",
     "text": [
      "A hipótese nula não pode ser rejeitada (os dados são normalmente distribuidas)\n"
     ]
    }
   ],
   "source": [
    "from scipy.stats import shapiro\n",
    "stat1, p1 = shapiro(lista1)\n",
    "if p1 > 0.05:\n",
    "    print('A hipótese nula não pode ser rejeitada (os dados são normalmente distribuidas)')\n",
    "else:\n",
    "    print('A hipótese nula é rejeitada (os dados não são normalmente distribuidas)')    "
   ]
  },
  {
   "cell_type": "code",
   "execution_count": 16,
   "id": "6dace6ab",
   "metadata": {},
   "outputs": [
    {
     "name": "stdout",
     "output_type": "stream",
     "text": [
      "A hipótese nula não pode ser rejeitada (os dados são normalmente distribuidas)\n"
     ]
    }
   ],
   "source": [
    "from scipy.stats import shapiro\n",
    "stat2, p2 = shapiro(lista2)\n",
    "if p2 > 0.05:\n",
    "    print('A hipótese nula não pode ser rejeitada (os dados são normalmente distribuidas)')\n",
    "else:\n",
    "    print('A hipótese nula é rejeitada (os dados não são normalmente distribuidas)')    "
   ]
  },
  {
   "cell_type": "code",
   "execution_count": 17,
   "id": "a36e042b",
   "metadata": {},
   "outputs": [
    {
     "data": {
      "text/plain": [
       "(0.1192760244011879, 0.996996283531189)"
      ]
     },
     "execution_count": 17,
     "metadata": {},
     "output_type": "execute_result"
    }
   ],
   "source": [
    "p1, p2"
   ]
  },
  {
   "cell_type": "markdown",
   "id": "b7971cbc",
   "metadata": {},
   "source": [
    "## Dadas variáveis normalizadas para alfa = 5%, então façamos a correlação de Pearson"
   ]
  },
  {
   "cell_type": "code",
   "execution_count": 25,
   "id": "b50743e9",
   "metadata": {},
   "outputs": [
    {
     "name": "stdout",
     "output_type": "stream",
     "text": [
      "A hipótese nula não pode ser rejeitada (não há relação entre as variáveis)\n"
     ]
    }
   ],
   "source": [
    "from scipy.stats import pearsonr\n",
    "r1, p3 = pearsonr(lista1, lista2)\n",
    "\n",
    "if p3 > 0.05:\n",
    "    print('A hipótese nula não pode ser rejeitada (não há relação entre as variáveis)')\n",
    "else:\n",
    "    print('A hipótese nula é rejeitada (há relação entre as variáveiss)')    "
   ]
  },
  {
   "cell_type": "code",
   "execution_count": 24,
   "id": "d795b774",
   "metadata": {},
   "outputs": [
    {
     "data": {
      "text/plain": [
       "(0.01212713680791622, 0.3912596676955687)"
      ]
     },
     "execution_count": 24,
     "metadata": {},
     "output_type": "execute_result"
    }
   ],
   "source": [
    "r1, p3"
   ]
  },
  {
   "cell_type": "markdown",
   "id": "0f967e69",
   "metadata": {},
   "source": [
    "## Correlação Não linear"
   ]
  },
  {
   "cell_type": "code",
   "execution_count": 30,
   "id": "ca51fde1",
   "metadata": {},
   "outputs": [],
   "source": [
    "data = pd.read_csv(r\"C:\\Users\\claud\\Downloads\\atlas2010_recorte.csv\", decimal='.')\n"
   ]
  },
  {
   "cell_type": "code",
   "execution_count": 31,
   "id": "285dae48",
   "metadata": {},
   "outputs": [
    {
     "data": {
      "text/html": [
       "<div>\n",
       "<style scoped>\n",
       "    .dataframe tbody tr th:only-of-type {\n",
       "        vertical-align: middle;\n",
       "    }\n",
       "\n",
       "    .dataframe tbody tr th {\n",
       "        vertical-align: top;\n",
       "    }\n",
       "\n",
       "    .dataframe thead th {\n",
       "        text-align: right;\n",
       "    }\n",
       "</style>\n",
       "<table border=\"1\" class=\"dataframe\">\n",
       "  <thead>\n",
       "    <tr style=\"text-align: right;\">\n",
       "      <th></th>\n",
       "      <th>uf</th>\n",
       "      <th>espvida</th>\n",
       "      <th>fectot</th>\n",
       "      <th>mort1</th>\n",
       "      <th>razdep</th>\n",
       "      <th>e_anosestudo</th>\n",
       "    </tr>\n",
       "  </thead>\n",
       "  <tbody>\n",
       "    <tr>\n",
       "      <th>0</th>\n",
       "      <td>Rondonia</td>\n",
       "      <td>70.75</td>\n",
       "      <td>2.24</td>\n",
       "      <td>23.8</td>\n",
       "      <td>47.37</td>\n",
       "      <td>8.67</td>\n",
       "    </tr>\n",
       "    <tr>\n",
       "      <th>1</th>\n",
       "      <td>Rondonia</td>\n",
       "      <td>73.36</td>\n",
       "      <td>1.91</td>\n",
       "      <td>19.2</td>\n",
       "      <td>46.68</td>\n",
       "      <td>9.18</td>\n",
       "    </tr>\n",
       "    <tr>\n",
       "      <th>2</th>\n",
       "      <td>Rondonia</td>\n",
       "      <td>70.39</td>\n",
       "      <td>2.15</td>\n",
       "      <td>24.8</td>\n",
       "      <td>48.12</td>\n",
       "      <td>10.09</td>\n",
       "    </tr>\n",
       "    <tr>\n",
       "      <th>3</th>\n",
       "      <td>Rondonia</td>\n",
       "      <td>74.27</td>\n",
       "      <td>1.90</td>\n",
       "      <td>14.3</td>\n",
       "      <td>43.79</td>\n",
       "      <td>9.74</td>\n",
       "    </tr>\n",
       "    <tr>\n",
       "      <th>4</th>\n",
       "      <td>Rondonia</td>\n",
       "      <td>72.94</td>\n",
       "      <td>2.12</td>\n",
       "      <td>18.1</td>\n",
       "      <td>45.67</td>\n",
       "      <td>10.22</td>\n",
       "    </tr>\n",
       "    <tr>\n",
       "      <th>...</th>\n",
       "      <td>...</td>\n",
       "      <td>...</td>\n",
       "      <td>...</td>\n",
       "      <td>...</td>\n",
       "      <td>...</td>\n",
       "      <td>...</td>\n",
       "    </tr>\n",
       "    <tr>\n",
       "      <th>885</th>\n",
       "      <td>Piaui</td>\n",
       "      <td>69.57</td>\n",
       "      <td>2.67</td>\n",
       "      <td>29.2</td>\n",
       "      <td>59.93</td>\n",
       "      <td>7.94</td>\n",
       "    </tr>\n",
       "    <tr>\n",
       "      <th>886</th>\n",
       "      <td>Piaui</td>\n",
       "      <td>67.49</td>\n",
       "      <td>1.86</td>\n",
       "      <td>36.2</td>\n",
       "      <td>55.92</td>\n",
       "      <td>9.14</td>\n",
       "    </tr>\n",
       "    <tr>\n",
       "      <th>887</th>\n",
       "      <td>Piaui</td>\n",
       "      <td>66.10</td>\n",
       "      <td>2.45</td>\n",
       "      <td>41.5</td>\n",
       "      <td>55.68</td>\n",
       "      <td>8.50</td>\n",
       "    </tr>\n",
       "    <tr>\n",
       "      <th>888</th>\n",
       "      <td>Piaui</td>\n",
       "      <td>66.10</td>\n",
       "      <td>1.89</td>\n",
       "      <td>41.5</td>\n",
       "      <td>43.73</td>\n",
       "      <td>7.63</td>\n",
       "    </tr>\n",
       "    <tr>\n",
       "      <th>889</th>\n",
       "      <td>Piaui</td>\n",
       "      <td>67.49</td>\n",
       "      <td>2.18</td>\n",
       "      <td>36.2</td>\n",
       "      <td>55.07</td>\n",
       "      <td>9.38</td>\n",
       "    </tr>\n",
       "  </tbody>\n",
       "</table>\n",
       "<p>890 rows × 6 columns</p>\n",
       "</div>"
      ],
      "text/plain": [
       "           uf  espvida  fectot  mort1  razdep  e_anosestudo\n",
       "0    Rondonia    70.75    2.24   23.8   47.37          8.67\n",
       "1    Rondonia    73.36    1.91   19.2   46.68          9.18\n",
       "2    Rondonia    70.39    2.15   24.8   48.12         10.09\n",
       "3    Rondonia    74.27    1.90   14.3   43.79          9.74\n",
       "4    Rondonia    72.94    2.12   18.1   45.67         10.22\n",
       "..        ...      ...     ...    ...     ...           ...\n",
       "885     Piaui    69.57    2.67   29.2   59.93          7.94\n",
       "886     Piaui    67.49    1.86   36.2   55.92          9.14\n",
       "887     Piaui    66.10    2.45   41.5   55.68          8.50\n",
       "888     Piaui    66.10    1.89   41.5   43.73          7.63\n",
       "889     Piaui    67.49    2.18   36.2   55.07          9.38\n",
       "\n",
       "[890 rows x 6 columns]"
      ]
     },
     "execution_count": 31,
     "metadata": {},
     "output_type": "execute_result"
    }
   ],
   "source": [
    "data"
   ]
  },
  {
   "cell_type": "code",
   "execution_count": 34,
   "id": "290081c0",
   "metadata": {},
   "outputs": [
    {
     "data": {
      "text/plain": [
       "Text(0, 0.5, 'mort1')"
      ]
     },
     "execution_count": 34,
     "metadata": {},
     "output_type": "execute_result"
    },
    {
     "data": {
      "image/png": "[encoded data removed]",
      "text/plain": [
       "<Figure size 640x480 with 1 Axes>"
      ]
     },
     "metadata": {},
     "output_type": "display_data"
    }
   ],
   "source": [
    "import matplotlib.pyplot as plt\n",
    "plt.scatter(data.fectot, data.mort1)\n",
    "plt.xlabel('fectot')\n",
    "plt.ylabel('mort1')"
   ]
  },
  {
   "cell_type": "code",
   "execution_count": 40,
   "id": "2cf42b65",
   "metadata": {},
   "outputs": [
    {
     "name": "stdout",
     "output_type": "stream",
     "text": [
      "                            OLS Regression Results                            \n",
      "==============================================================================\n",
      "Dep. Variable:                 fectot   R-squared:                       0.010\n",
      "Model:                            OLS   Adj. R-squared:                  0.009\n",
      "Method:                 Least Squares   F-statistic:                     9.371\n",
      "Date:                Wed, 13 Dec 2023   Prob (F-statistic):            0.00227\n",
      "Time:                        23:31:19   Log-Likelihood:                -775.40\n",
      "No. Observations:                 890   AIC:                             1555.\n",
      "Df Residuals:                     888   BIC:                             1564.\n",
      "Df Model:                           1                                         \n",
      "Covariance Type:            nonrobust                                         \n",
      "==============================================================================\n",
      "                 coef    std err          t      P>|t|      [0.025      0.975]\n",
      "------------------------------------------------------------------------------\n",
      "Intercept      2.5617      0.077     33.108      0.000       2.410       2.714\n",
      "mort1          0.0089      0.003      3.061      0.002       0.003       0.015\n",
      "==============================================================================\n",
      "Omnibus:                       77.794   Durbin-Watson:                   1.057\n",
      "Prob(Omnibus):                  0.000   Jarque-Bera (JB):               98.235\n",
      "Skew:                           0.743   Prob(JB):                     4.66e-22\n",
      "Kurtosis:                       3.665   Cond. No.                         106.\n",
      "==============================================================================\n",
      "\n",
      "Notes:\n",
      "[1] Standard Errors assume that the covariance matrix of the errors is correctly specified.\n"
     ]
    }
   ],
   "source": [
    "import statsmodels.formula.api as sm\n",
    "model = sm.ols(formula='fectot ~ mort1', data=data).fit()\n",
    "\n",
    "print(model.summary())"
   ]
  }
 ],
 "metadata": {
  "kernelspec": {
   "display_name": "Python 3 (ipykernel)",
   "language": "python",
   "name": "python3"
  },
  "language_info": {
   "codemirror_mode": {
    "name": "ipython",
    "version": 3
   },
   "file_extension": ".py",
   "mimetype": "text/x-python",
   "name": "python",
   "nbconvert_exporter": "python",
   "pygments_lexer": "ipython3",
   "version": "3.11.5"
  },
  "varInspector": {
   "cols": {
    "lenName": 16,
    "lenType": 16,
    "lenVar": 40
   },
   "kernels_config": {
    "python": {
     "delete_cmd_postfix": "",
     "delete_cmd_prefix": "del ",
     "library": "var_list.py",
     "varRefreshCmd": "print(var_dic_list())"
    },
    "r": {
     "delete_cmd_postfix": ") ",
     "delete_cmd_prefix": "rm(",
     "library": "var_list.r",
     "varRefreshCmd": "cat(var_dic_list()) "
    }
   },
   "types_to_exclude": [
    "module",
    "function",
    "builtin_function_or_method",
    "instance",
    "_Feature"
   ],
   "window_display": false
  }
 },
 "nbformat": 4,
 "nbformat_minor": 5
}
